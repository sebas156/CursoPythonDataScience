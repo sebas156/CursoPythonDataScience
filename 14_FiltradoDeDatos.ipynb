{
 "cells": [
  {
   "cell_type": "code",
   "execution_count": 1,
   "metadata": {},
   "outputs": [],
   "source": [
    "import pandas as pd"
   ]
  },
  {
   "cell_type": "code",
   "execution_count": 6,
   "metadata": {},
   "outputs": [
    {
     "name": "stderr",
     "output_type": "stream",
     "text": [
      "C:\\Users\\seboc\\AppData\\Local\\Temp\\ipykernel_11892\\2992470181.py:4: UserWarning: Could not infer format, so each element will be parsed individually, falling back to `dateutil`. To ensure parsing is consistent and as-expected, please specify a format.\n",
      "  df_retail_data['InvoiceDate'] = pd.to_datetime(df_retail_data['InvoiceDate'])\n"
     ]
    },
    {
     "name": "stdout",
     "output_type": "stream",
     "text": [
      "   InvoiceNo StockCode                          Description  Quantity  \\\n",
      "0     536365    85123A   WHITE HANGING HEART T-LIGHT HOLDER         6   \n",
      "1     536365     71053                  WHITE METAL LANTERN         6   \n",
      "2     536365    84406B       CREAM CUPID HEARTS COAT HANGER         8   \n",
      "3     536365    84029G  KNITTED UNION FLAG HOT WATER BOTTLE         6   \n",
      "4     536365    84029E       RED WOOLLY HOTTIE WHITE HEART.         6   \n",
      "5     536365     22752         SET 7 BABUSHKA NESTING BOXES         2   \n",
      "6     536365     21730    GLASS STAR FROSTED T-LIGHT HOLDER         6   \n",
      "7     536366     22633               HAND WARMER UNION JACK         6   \n",
      "8     536366     22632            HAND WARMER RED POLKA DOT         6   \n",
      "9     536367     84879        ASSORTED COLOUR BIRD ORNAMENT        32   \n",
      "10    536367     22745           POPPY'S PLAYHOUSE BEDROOM          6   \n",
      "11    536367     22748            POPPY'S PLAYHOUSE KITCHEN         6   \n",
      "12    536367     22749    FELTCRAFT PRINCESS CHARLOTTE DOLL         8   \n",
      "13    536367     22310              IVORY KNITTED MUG COSY          6   \n",
      "14    536367     84969   BOX OF 6 ASSORTED COLOUR TEASPOONS         6   \n",
      "15    536367     22623        BOX OF VINTAGE JIGSAW BLOCKS          3   \n",
      "16    536367     22622       BOX OF VINTAGE ALPHABET BLOCKS         2   \n",
      "17    536367     21754             HOME BUILDING BLOCK WORD         3   \n",
      "18    536367     21755             LOVE BUILDING BLOCK WORD         3   \n",
      "19    536367     21777          RECIPE BOX WITH METAL HEART         4   \n",
      "\n",
      "           InvoiceDate  UnitPrice  CustomerID         Country  TotalPrice  \n",
      "0  2010-12-01 08:26:00       2.55     17850.0  United Kingdom       15.30  \n",
      "1  2010-12-01 08:26:00       3.39     17850.0  United Kingdom       20.34  \n",
      "2  2010-12-01 08:26:00       2.75     17850.0  United Kingdom       22.00  \n",
      "3  2010-12-01 08:26:00       3.39     17850.0  United Kingdom       20.34  \n",
      "4  2010-12-01 08:26:00       3.39     17850.0  United Kingdom       20.34  \n",
      "5  2010-12-01 08:26:00       7.65     17850.0  United Kingdom       15.30  \n",
      "6  2010-12-01 08:26:00       4.25     17850.0  United Kingdom       25.50  \n",
      "7  2010-12-01 08:28:00       1.85     17850.0  United Kingdom       11.10  \n",
      "8  2010-12-01 08:28:00       1.85     17850.0  United Kingdom       11.10  \n",
      "9  2010-12-01 08:34:00       1.69     13047.0  United Kingdom       54.08  \n",
      "10 2010-12-01 08:34:00       2.10     13047.0  United Kingdom       12.60  \n",
      "11 2010-12-01 08:34:00       2.10     13047.0  United Kingdom       12.60  \n",
      "12 2010-12-01 08:34:00       3.75     13047.0  United Kingdom       30.00  \n",
      "13 2010-12-01 08:34:00       1.65     13047.0  United Kingdom        9.90  \n",
      "14 2010-12-01 08:34:00       4.25     13047.0  United Kingdom       25.50  \n",
      "15 2010-12-01 08:34:00       4.95     13047.0  United Kingdom       14.85  \n",
      "16 2010-12-01 08:34:00       9.95     13047.0  United Kingdom       19.90  \n",
      "17 2010-12-01 08:34:00       5.95     13047.0  United Kingdom       17.85  \n",
      "18 2010-12-01 08:34:00       5.95     13047.0  United Kingdom       17.85  \n",
      "19 2010-12-01 08:34:00       7.95     13047.0  United Kingdom       31.80  \n"
     ]
    }
   ],
   "source": [
    "path = r'C:\\Users\\seboc\\OneDrive\\Escritorio\\PROJECTS\\DATASCIENCE\\CursoPythonDataScience\\Online_Retail.csv'\n",
    "df_retail_data = pd.read_csv(path,encoding='windows-1252')\n",
    "\n",
    "df_retail_data['InvoiceDate'] = pd.to_datetime(df_retail_data['InvoiceDate'])\n",
    "\n",
    "df_retail_data.dropna(subset=['CustomerID','InvoiceDate'],inplace=True)\n",
    "\n",
    "df_retail_data['TotalPrice'] = df_retail_data['Quantity']*df_retail_data['UnitPrice']\n",
    "\n",
    "print(df_retail_data.head(20))"
   ]
  },
  {
   "cell_type": "markdown",
   "metadata": {},
   "source": [
    "## Filtrar ventas en UK"
   ]
  },
  {
   "cell_type": "code",
   "execution_count": 3,
   "metadata": {},
   "outputs": [
    {
     "name": "stdout",
     "output_type": "stream",
     "text": [
      "  InvoiceNo StockCode                          Description  Quantity  \\\n",
      "0    536365    85123A   WHITE HANGING HEART T-LIGHT HOLDER         6   \n",
      "1    536365     71053                  WHITE METAL LANTERN         6   \n",
      "2    536365    84406B       CREAM CUPID HEARTS COAT HANGER         8   \n",
      "3    536365    84029G  KNITTED UNION FLAG HOT WATER BOTTLE         6   \n",
      "4    536365    84029E       RED WOOLLY HOTTIE WHITE HEART.         6   \n",
      "\n",
      "          InvoiceDate  UnitPrice  CustomerID         Country  TotalPrice  \n",
      "0 2010-12-01 08:26:00       2.55     17850.0  United Kingdom       15.30  \n",
      "1 2010-12-01 08:26:00       3.39     17850.0  United Kingdom       20.34  \n",
      "2 2010-12-01 08:26:00       2.75     17850.0  United Kingdom       22.00  \n",
      "3 2010-12-01 08:26:00       3.39     17850.0  United Kingdom       20.34  \n",
      "4 2010-12-01 08:26:00       3.39     17850.0  United Kingdom       20.34  \n"
     ]
    }
   ],
   "source": [
    "uk_sales = df_retail_data[df_retail_data['Country']=='United Kingdom']\n",
    "print(uk_sales.head())"
   ]
  },
  {
   "cell_type": "code",
   "execution_count": 5,
   "metadata": {},
   "outputs": [
    {
     "name": "stdout",
     "output_type": "stream",
     "text": [
      "   InvoiceNo StockCode                        Description  Quantity  \\\n",
      "9     536367     84879      ASSORTED COLOUR BIRD ORNAMENT        32   \n",
      "46    536371     22086    PAPER CHAIN KIT 50'S CHRISTMAS         80   \n",
      "65    536374     21258         VICTORIAN SEWING BOX LARGE        32   \n",
      "82    536376     22114  HOT WATER BOTTLE TEA AND SYMPATHY        48   \n",
      "83    536376     21733   RED HANGING HEART T-LIGHT HOLDER        64   \n",
      "\n",
      "           InvoiceDate  UnitPrice  CustomerID         Country  TotalPrice  \n",
      "9  2010-12-01 08:34:00       1.69     13047.0  United Kingdom       54.08  \n",
      "46 2010-12-01 09:00:00       2.55     13748.0  United Kingdom      204.00  \n",
      "65 2010-12-01 09:09:00      10.95     15100.0  United Kingdom      350.40  \n",
      "82 2010-12-01 09:32:00       3.45     15291.0  United Kingdom      165.60  \n",
      "83 2010-12-01 09:32:00       2.55     15291.0  United Kingdom      163.20  \n"
     ]
    }
   ],
   "source": [
    "high_quantity_sales = uk_sales[uk_sales['Quantity']>10]\n",
    "print(high_quantity_sales.head())"
   ]
  },
  {
   "cell_type": "code",
   "execution_count": 9,
   "metadata": {},
   "outputs": [
    {
     "name": "stdout",
     "output_type": "stream",
     "text": [
      "   InvoiceNo StockCode                        Description  Quantity  \\\n",
      "9     536367     84879      ASSORTED COLOUR BIRD ORNAMENT        32   \n",
      "46    536371     22086    PAPER CHAIN KIT 50'S CHRISTMAS         80   \n",
      "65    536374     21258         VICTORIAN SEWING BOX LARGE        32   \n",
      "82    536376     22114  HOT WATER BOTTLE TEA AND SYMPATHY        48   \n",
      "83    536376     21733   RED HANGING HEART T-LIGHT HOLDER        64   \n",
      "\n",
      "           InvoiceDate  UnitPrice  CustomerID         Country  TotalPrice  \n",
      "9  2010-12-01 08:34:00       1.69     13047.0  United Kingdom       54.08  \n",
      "46 2010-12-01 09:00:00       2.55     13748.0  United Kingdom      204.00  \n",
      "65 2010-12-01 09:09:00      10.95     15100.0  United Kingdom      350.40  \n",
      "82 2010-12-01 09:32:00       3.45     15291.0  United Kingdom      165.60  \n",
      "83 2010-12-01 09:32:00       2.55     15291.0  United Kingdom      163.20  \n"
     ]
    }
   ],
   "source": [
    "uk_high_quantity_sales = df_retail_data[(df_retail_data['Country']=='United Kingdom') & (df_retail_data['Quantity']>10)]\n",
    "print(uk_high_quantity_sales.head())"
   ]
  },
  {
   "cell_type": "code",
   "execution_count": 11,
   "metadata": {},
   "outputs": [
    {
     "name": "stdout",
     "output_type": "stream",
     "text": [
      "       InvoiceNo StockCode                      Description  Quantity  \\\n",
      "42481     539993     22386          JUMBO BAG PINK POLKADOT        10   \n",
      "42482     539993     21499               BLUE POLKADOT WRAP        25   \n",
      "42483     539993     21498              RED RETROSPOT WRAP         25   \n",
      "42484     539993     22379         RECYCLING BAG RETROSPOT          5   \n",
      "42485     539993     20718        RED RETROSPOT SHOPPER BAG        10   \n",
      "...          ...       ...                              ...       ...   \n",
      "541904    581587     22613      PACK OF 20 SPACEBOY NAPKINS        12   \n",
      "541905    581587     22899     CHILDREN'S APRON DOLLY GIRL          6   \n",
      "541906    581587     23254    CHILDRENS CUTLERY DOLLY GIRL          4   \n",
      "541907    581587     23255  CHILDRENS CUTLERY CIRCUS PARADE         4   \n",
      "541908    581587     22138    BAKING SET 9 PIECE RETROSPOT          3   \n",
      "\n",
      "               InvoiceDate  UnitPrice  CustomerID         Country  TotalPrice  \n",
      "42481  2011-01-04 10:00:00       1.95     13313.0  United Kingdom       19.50  \n",
      "42482  2011-01-04 10:00:00       0.42     13313.0  United Kingdom       10.50  \n",
      "42483  2011-01-04 10:00:00       0.42     13313.0  United Kingdom       10.50  \n",
      "42484  2011-01-04 10:00:00       2.10     13313.0  United Kingdom       10.50  \n",
      "42485  2011-01-04 10:00:00       1.25     13313.0  United Kingdom       12.50  \n",
      "...                    ...        ...         ...             ...         ...  \n",
      "541904 2011-12-09 12:50:00       0.85     12680.0          France       10.20  \n",
      "541905 2011-12-09 12:50:00       2.10     12680.0          France       12.60  \n",
      "541906 2011-12-09 12:50:00       4.15     12680.0          France       16.60  \n",
      "541907 2011-12-09 12:50:00       4.15     12680.0          France       16.60  \n",
      "541908 2011-12-09 12:50:00       4.95     12680.0          France       14.85  \n",
      "\n",
      "[379979 rows x 9 columns]\n"
     ]
    }
   ],
   "source": [
    "sales_2011 = df_retail_data[df_retail_data['InvoiceDate'].dt.year==2011]\n",
    "print(sales_2011)"
   ]
  },
  {
   "cell_type": "code",
   "execution_count": 12,
   "metadata": {},
   "outputs": [
    {
     "name": "stdout",
     "output_type": "stream",
     "text": [
      "      InvoiceNo StockCode                          Description  Quantity  \\\n",
      "0        536365    85123A   WHITE HANGING HEART T-LIGHT HOLDER         6   \n",
      "1        536365     71053                  WHITE METAL LANTERN         6   \n",
      "2        536365    84406B       CREAM CUPID HEARTS COAT HANGER         8   \n",
      "3        536365    84029G  KNITTED UNION FLAG HOT WATER BOTTLE         6   \n",
      "4        536365    84029E       RED WOOLLY HOTTIE WHITE HEART.         6   \n",
      "...         ...       ...                                  ...       ...   \n",
      "42448    539988     84380    SET OF 3 BUTTERFLY COOKIE CUTTERS         1   \n",
      "42449    539988    84849D                HOT BATHS SOAP HOLDER         1   \n",
      "42450    539988    84849B               FAIRY SOAP SOAP HOLDER         1   \n",
      "42451    539988     22854          CREAM SWEETHEART EGG HOLDER         2   \n",
      "42452    539988    47559B                  TEA TIME OVEN GLOVE         2   \n",
      "\n",
      "              InvoiceDate  UnitPrice  CustomerID         Country  TotalPrice  \n",
      "0     2010-12-01 08:26:00       2.55     17850.0  United Kingdom       15.30  \n",
      "1     2010-12-01 08:26:00       3.39     17850.0  United Kingdom       20.34  \n",
      "2     2010-12-01 08:26:00       2.75     17850.0  United Kingdom       22.00  \n",
      "3     2010-12-01 08:26:00       3.39     17850.0  United Kingdom       20.34  \n",
      "4     2010-12-01 08:26:00       3.39     17850.0  United Kingdom       20.34  \n",
      "...                   ...        ...         ...             ...         ...  \n",
      "42448 2010-12-23 16:06:00       1.25     18116.0  United Kingdom        1.25  \n",
      "42449 2010-12-23 16:06:00       1.69     18116.0  United Kingdom        1.69  \n",
      "42450 2010-12-23 16:06:00       1.69     18116.0  United Kingdom        1.69  \n",
      "42451 2010-12-23 16:06:00       4.95     18116.0  United Kingdom        9.90  \n",
      "42452 2010-12-23 16:06:00       1.25     18116.0  United Kingdom        2.50  \n",
      "\n",
      "[26850 rows x 9 columns]\n"
     ]
    }
   ],
   "source": [
    "sales_2010_12 = df_retail_data[(df_retail_data['InvoiceDate'].dt.year==2010) & (df_retail_data['InvoiceDate'].dt.month==12)]\n",
    "print(sales_2010_12)"
   ]
  },
  {
   "cell_type": "code",
   "execution_count": null,
   "metadata": {},
   "outputs": [],
   "source": []
  }
 ],
 "metadata": {
  "kernelspec": {
   "display_name": "Python 3",
   "language": "python",
   "name": "python3"
  },
  "language_info": {
   "codemirror_mode": {
    "name": "ipython",
    "version": 3
   },
   "file_extension": ".py",
   "mimetype": "text/x-python",
   "name": "python",
   "nbconvert_exporter": "python",
   "pygments_lexer": "ipython3",
   "version": "3.11.5"
  }
 },
 "nbformat": 4,
 "nbformat_minor": 2
}
