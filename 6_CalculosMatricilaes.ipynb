{
 "cells": [
  {
   "cell_type": "code",
   "execution_count": 2,
   "metadata": {},
   "outputs": [],
   "source": [
    "import numpy as np"
   ]
  },
  {
   "cell_type": "markdown",
   "metadata": {},
   "source": [
    "# Producto"
   ]
  },
  {
   "cell_type": "code",
   "execution_count": 4,
   "metadata": {},
   "outputs": [
    {
     "name": "stdout",
     "output_type": "stream",
     "text": [
      "[[19 22]\n",
      " [43 50]]\n",
      "[[19 22]\n",
      " [43 50]]\n",
      "[[ 5 12]\n",
      " [21 32]]\n"
     ]
    }
   ],
   "source": [
    "matrix_a = np.array([[1, 2], [3, 4]])\n",
    "matrix_b = np.array([[5, 6], [7, 8]])\n",
    "product_1 = np.dot(matrix_a, matrix_b)\n",
    "product_2 = matrix_a @ matrix_b\n",
    "product_3 = matrix_a*matrix_b #! Esta no es una multiplicación de matrices, es una multiplicación elemento a elemento\n",
    "\n",
    "print(product_1)\n",
    "print(product_2)\n",
    "print(product_3)"
   ]
  },
  {
   "cell_type": "markdown",
   "metadata": {},
   "source": [
    "# Resolver un sistema de ecuaciones 2x2 con NumPy"
   ]
  },
  {
   "cell_type": "markdown",
   "metadata": {},
   "source": [
    "**Sistema de ecuaciones:**\n",
    "\n",
    "1. \\( 2x + 3y = 8 \\)  \n",
    "2. \\( x - y = 2 \\)\n",
    "\n",
    "[ 2  3 ]   [ x ]   =   [ 8 ]\n",
    "\n",
    "[ 1 -1 ] ⋅ [ y ]   =   [ 2 ]\n",
    "\n",
    "Donde:\n",
    "\n",
    "A (matriz de coeficientes):\n",
    "\n",
    "[ 2  3 ]\n",
    "\n",
    "[ 1 -1 ]\n",
    "\n",
    "b (vector de términos independientes):\n",
    "\n",
    "[ 8 ]\n",
    "\n",
    "[ 2 ]\n",
    "\n",
    "x (vector solución):\n",
    "\n",
    "[ x ]\n",
    "\n",
    "[ y ]"
   ]
  },
  {
   "cell_type": "code",
   "execution_count": 6,
   "metadata": {},
   "outputs": [
    {
     "name": "stdout",
     "output_type": "stream",
     "text": [
      "La solución es:\n",
      "x = 2.8\n",
      "y = 0.8\n"
     ]
    }
   ],
   "source": [
    "import numpy as np\n",
    "\n",
    "# Matriz de coeficientes (A)\n",
    "A = np.array([[2, 3],\n",
    "            [1, -1]])\n",
    "\n",
    "# Vector de términos independientes (b)\n",
    "b = np.array([8, 2])\n",
    "\n",
    "# Resolver el sistema de ecuaciones\n",
    "solution = np.linalg.solve(A, b)\n",
    "\n",
    "# Mostrar resultados\n",
    "print(\"La solución es:\")\n",
    "print(f\"x = {solution[0]}\")\n",
    "print(f\"y = {solution[1]}\")"
   ]
  },
  {
   "cell_type": "code",
   "execution_count": null,
   "metadata": {},
   "outputs": [],
   "source": []
  }
 ],
 "metadata": {
  "kernelspec": {
   "display_name": "Python 3",
   "language": "python",
   "name": "python3"
  },
  "language_info": {
   "codemirror_mode": {
    "name": "ipython",
    "version": 3
   },
   "file_extension": ".py",
   "mimetype": "text/x-python",
   "name": "python",
   "nbconvert_exporter": "python",
   "pygments_lexer": "ipython3",
   "version": "3.11.5"
  }
 },
 "nbformat": 4,
 "nbformat_minor": 2
}
