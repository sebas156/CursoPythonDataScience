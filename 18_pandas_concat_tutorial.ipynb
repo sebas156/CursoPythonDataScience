{
 "cells": [
  {
   "cell_type": "markdown",
   "id": "c2b8ffa9",
   "metadata": {},
   "source": [
    "# 📌 Pandas `concat` - Teoría y Práctica\n",
    "\n",
    "En este notebook aprenderás cómo usar la función `concat` en pandas para concatenar **DataFrames y Series** de manera eficiente. Veremos su teoría, ejemplos prácticos y ejercicios para reforzar el aprendizaje."
   ]
  },
  {
   "cell_type": "markdown",
   "id": "f38ee78f",
   "metadata": {},
   "source": [
    "## 🔹 1. ¿Qué es `concat` en pandas?\n",
    "La función `pd.concat()` se utiliza para **combinar** o **concatenar** DataFrames y Series en pandas. Permite unir estructuras de datos **tanto por filas como por columnas**."
   ]
  },
  {
   "cell_type": "markdown",
   "id": "124a4adb",
   "metadata": {},
   "source": [
    "### 📌 Sintaxis de `concat`\n",
    "```python\n",
    "import pandas as pd\n",
    "pd.concat(objs, axis=0, join='outer', ignore_index=False, keys=None, verify_integrity=False, copy=True)\n",
    "```\n",
    "\n",
    "### 🔍 Parámetros clave\n",
    "- `objs`: Lista de objetos (DataFrames o Series) a concatenar.\n",
    "- `axis`: `0` para concatenar por filas, `1` por columnas.\n",
    "- `join`: `'outer'` (todas las columnas) o `'inner'` (solo columnas comunes).\n",
    "- `ignore_index`: Si `True`, resetea los índices.\n",
    "- `keys`: Agrega claves para identificar cada DataFrame en un índice jerárquico.\n",
    "- `verify_integrity`: Si `True`, lanza un error si hay índices duplicados después de la concatenación.\n"
   ]
  },
  {
   "cell_type": "markdown",
   "id": "90fa0803",
   "metadata": {},
   "source": [
    "## 🔹 2. Ejemplo: Concatenar DataFrames por filas"
   ]
  },
  {
   "cell_type": "code",
   "execution_count": 1,
   "id": "be409bb1",
   "metadata": {},
   "outputs": [
    {
     "name": "stdout",
     "output_type": "stream",
     "text": [
      "    A   B\n",
      "0  A0  B0\n",
      "1  A1  B1\n",
      "0  A2  B2\n",
      "1  A3  B3\n"
     ]
    }
   ],
   "source": [
    "import pandas as pd\n",
    "\n",
    "# Crear dos DataFrames\n",
    "df1 = pd.DataFrame({'A': ['A0', 'A1'], 'B': ['B0', 'B1']})\n",
    "df2 = pd.DataFrame({'A': ['A2', 'A3'], 'B': ['B2', 'B3']})\n",
    "\n",
    "# Concatenar por filas\n",
    "result = pd.concat([df1, df2])\n",
    "print(result)"
   ]
  },
  {
   "cell_type": "markdown",
   "id": "26066867",
   "metadata": {},
   "source": [
    "## 🔹 3. Ejemplo: Concatenar DataFrames por columnas"
   ]
  },
  {
   "cell_type": "code",
   "execution_count": 3,
   "id": "b5e6f93b",
   "metadata": {},
   "outputs": [
    {
     "name": "stdout",
     "output_type": "stream",
     "text": [
      "    C   D    E\n",
      "0  C0  D0   E0\n",
      "1  C1  D1  NaN\n"
     ]
    }
   ],
   "source": [
    "df3 = pd.DataFrame({'C': ['C0', 'C1']})\n",
    "df4 = pd.DataFrame({'D': ['D0', 'D1']})\n",
    "dfE = pd.DataFrame({'E': ['E0']})\n",
    "\n",
    "# Concatenar por columnas\n",
    "result = pd.concat([df3, df4,dfE], axis=1)\n",
    "print(result)"
   ]
  },
  {
   "cell_type": "markdown",
   "id": "e3f2537a",
   "metadata": {},
   "source": [
    "## 🔹 4. Ejemplo: Usar `join='inner'` para intersección de columnas"
   ]
  },
  {
   "cell_type": "code",
   "execution_count": 4,
   "id": "b58e17ef",
   "metadata": {},
   "outputs": [
    {
     "name": "stdout",
     "output_type": "stream",
     "text": [
      "    A   B\n",
      "0  A0  B0\n",
      "1  A1  B1\n",
      "    B   C\n",
      "0  B2  C2\n",
      "1  B3  C3\n",
      "    B\n",
      "0  B0\n",
      "1  B1\n",
      "2  B2\n",
      "3  B3\n"
     ]
    }
   ],
   "source": [
    "df5 = pd.DataFrame({'A': ['A0', 'A1'], 'B': ['B0', 'B1']})\n",
    "df6 = pd.DataFrame({'B': ['B2', 'B3'], 'C': ['C2', 'C3']})\n",
    "\n",
    "# Usar join='inner'\n",
    "result = pd.concat([df5, df6], join='inner', ignore_index=True)\n",
    "\n",
    "print(df5)\n",
    "print(df6)\n",
    "print(result)"
   ]
  },
  {
   "cell_type": "markdown",
   "id": "cfe57ce0",
   "metadata": {},
   "source": [
    "## 🔹 5. Ejemplo: Agregar claves a la concatenación (`keys`)"
   ]
  },
  {
   "cell_type": "code",
   "execution_count": 5,
   "id": "82c73946",
   "metadata": {},
   "outputs": [
    {
     "name": "stdout",
     "output_type": "stream",
     "text": [
      "        A   B\n",
      "df1 0  A0  B0\n",
      "    1  A1  B1\n",
      "df2 0  A2  B2\n",
      "    1  A3  B3\n"
     ]
    }
   ],
   "source": [
    "result = pd.concat([df1, df2], keys=['df1', 'df2'])\n",
    "print(result)"
   ]
  },
  {
   "cell_type": "markdown",
   "id": "c60f993e",
   "metadata": {},
   "source": [
    "## 🎯 6. Ejercicios para practicar\n",
    "Ahora es tu turno. Resuelve los siguientes ejercicios para reforzar lo aprendido.\n",
    "\n",
    "### ✅ Ejercicio 1: Concatenar DataFrames por filas con `ignore_index=True`\n",
    "Crea dos DataFrames con columnas `X` y `Y` y concaténalos por filas, asegurando que el índice sea consecutivo.\n",
    "\n",
    "```python\n",
    "# Tu código aquí\n",
    "```\n",
    "\n",
    "---\n",
    "### ✅ Ejercicio 2: Concatenar DataFrames por columnas\n",
    "Crea dos DataFrames con diferentes columnas y únelos **por columnas** (`axis=1`).\n",
    "\n",
    "```python\n",
    "# Tu código aquí\n",
    "```\n",
    "\n",
    "---\n",
    "### ✅ Ejercicio 3: Usar `join='inner'` para intersección de columnas\n",
    "Crea dos DataFrames con algunas columnas en común y usa `join='inner'` para concatenarlos.\n",
    "\n",
    "```python\n",
    "# Tu código aquí\n",
    "```\n"
   ]
  },
  {
   "cell_type": "markdown",
   "id": "e758365a",
   "metadata": {},
   "source": []
  }
 ],
 "metadata": {
  "kernelspec": {
   "display_name": "Python 3",
   "language": "python",
   "name": "python3"
  },
  "language_info": {
   "codemirror_mode": {
    "name": "ipython",
    "version": 3
   },
   "file_extension": ".py",
   "mimetype": "text/x-python",
   "name": "python",
   "nbconvert_exporter": "python",
   "pygments_lexer": "ipython3",
   "version": "3.11.5"
  }
 },
 "nbformat": 4,
 "nbformat_minor": 5
}
