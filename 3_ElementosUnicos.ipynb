{
 "cells": [
  {
   "cell_type": "code",
   "execution_count": 1,
   "metadata": {},
   "outputs": [],
   "source": [
    "import numpy as np"
   ]
  },
  {
   "cell_type": "markdown",
   "metadata": {},
   "source": [
    "# Unique"
   ]
  },
  {
   "cell_type": "code",
   "execution_count": 3,
   "metadata": {},
   "outputs": [
    {
     "name": "stdout",
     "output_type": "stream",
     "text": [
      "['bueno' 'excelente' 'malo']\n",
      "(array(['bueno', 'excelente', 'malo'], dtype='<U9'), array([6, 4, 5], dtype=int64))\n"
     ]
    }
   ],
   "source": [
    "survey_responses = np.array([\"bueno\", \"excelente\", \"malo\", \"bueno\", \"bueno\", \"malo\", \"malo\", \"bueno\", \"excelente\", \"malo\",\"excelente\", \"bueno\", \"bueno\", \"malo\", \"excelente\"])\n",
    "print(np.unique(survey_responses))\n",
    "print(np.unique(survey_responses, return_counts=True))"
   ]
  },
  {
   "cell_type": "code",
   "execution_count": 4,
   "metadata": {},
   "outputs": [
    {
     "name": "stdout",
     "output_type": "stream",
     "text": [
      "Unique Values: ['bueno' 'excelente' 'malo']\n",
      "Counts: [6 4 5]\n"
     ]
    }
   ],
   "source": [
    "unique_values, counts = np.unique(survey_responses, return_counts=True)\n",
    "print(\"Unique Values:\", unique_values)\n",
    "print(\"Counts:\", counts)"
   ]
  },
  {
   "cell_type": "markdown",
   "metadata": {},
   "source": [
    "# Copias y vistas"
   ]
  },
  {
   "cell_type": "markdown",
   "metadata": {},
   "source": [
    "El problema es que el slicing devuelve referencias"
   ]
  },
  {
   "cell_type": "code",
   "execution_count": 10,
   "metadata": {},
   "outputs": [
    {
     "name": "stdout",
     "output_type": "stream",
     "text": [
      "[0 1 2 3 4 5 6 7 8 9]\n",
      "[1 2]\n"
     ]
    }
   ],
   "source": [
    "array_x = np.arange(10)\n",
    "view_x = array_x[1:3]\n",
    "print(array_x)\n",
    "print(view_x)"
   ]
  },
  {
   "cell_type": "code",
   "execution_count": 11,
   "metadata": {},
   "outputs": [
    {
     "name": "stdout",
     "output_type": "stream",
     "text": [
      "[ 0 10 11  3  4  5  6  7  8  9]\n",
      "[10 11]\n"
     ]
    }
   ],
   "source": [
    "array_x[1:3] = [10,11]\n",
    "print(array_x)\n",
    "print(view_x)"
   ]
  },
  {
   "cell_type": "code",
   "execution_count": 12,
   "metadata": {},
   "outputs": [
    {
     "name": "stdout",
     "output_type": "stream",
     "text": [
      "[ 0 20 21  3  4  5  6  7  8  9]\n",
      "[20 21]\n"
     ]
    }
   ],
   "source": [
    "view_x[:] = [20,21]\n",
    "print(array_x)\n",
    "print(view_x)"
   ]
  },
  {
   "cell_type": "markdown",
   "metadata": {},
   "source": [
    "## Copias"
   ]
  },
  {
   "cell_type": "markdown",
   "metadata": {},
   "source": [
    "### Fancy Indexing"
   ]
  },
  {
   "cell_type": "code",
   "execution_count": 13,
   "metadata": {},
   "outputs": [
    {
     "name": "stdout",
     "output_type": "stream",
     "text": [
      "[0 1 2 3 4 5 6 7 8 9]\n",
      "[1 2]\n"
     ]
    }
   ],
   "source": [
    "array_x = np.arange(10)\n",
    "copy_x = array_x[[1,2]]\n",
    "print(array_x)\n",
    "print(copy_x)"
   ]
  },
  {
   "cell_type": "code",
   "execution_count": 14,
   "metadata": {},
   "outputs": [
    {
     "name": "stdout",
     "output_type": "stream",
     "text": [
      "[ 0 10 11  3  4  5  6  7  8  9]\n",
      "[1 2]\n"
     ]
    }
   ],
   "source": [
    "array_x[1:3] = [10,11]\n",
    "print(array_x)\n",
    "print(copy_x)  "
   ]
  },
  {
   "cell_type": "code",
   "execution_count": 22,
   "metadata": {},
   "outputs": [
    {
     "name": "stdout",
     "output_type": "stream",
     "text": [
      "[20 21 22 23 24 25 26 27 28 29 30 31 32 33 34 35 36 37 38 39 40 41 42 43\n",
      " 44 45 46 47 48 49]\n",
      "[25 28 32]\n"
     ]
    }
   ],
   "source": [
    "array_x = np.arange(20,50)\n",
    "copy_x = array_x[[5,8,12]]\n",
    "print(array_x)\n",
    "print(copy_x)\n"
   ]
  },
  {
   "cell_type": "markdown",
   "metadata": {},
   "source": [
    "**Nota importante:**\n",
    "\n",
    "- **Solo se pueden realizar indexaciones.**\n",
    "- No se puede usar slicing directamente, ya que este genera una **vista** (referencia a la matriz original).\n",
    "\n",
    "Si necesitas evitar que el slicing genere una vista y deseas crear una copia independiente, utiliza el método `.copy()` al final.\n",
    "\n",
    "#### Ejemplo:\n",
    "```python\n",
    "copy_x = array_x[1:3].copy()"
   ]
  },
  {
   "cell_type": "code",
   "execution_count": null,
   "metadata": {},
   "outputs": [],
   "source": []
  }
 ],
 "metadata": {
  "kernelspec": {
   "display_name": "Python 3",
   "language": "python",
   "name": "python3"
  },
  "language_info": {
   "codemirror_mode": {
    "name": "ipython",
    "version": 3
   },
   "file_extension": ".py",
   "mimetype": "text/x-python",
   "name": "python",
   "nbconvert_exporter": "python",
   "pygments_lexer": "ipython3",
   "version": "3.11.5"
  }
 },
 "nbformat": 4,
 "nbformat_minor": 2
}
