{
 "cells": [
  {
   "cell_type": "code",
   "execution_count": 16,
   "metadata": {},
   "outputs": [],
   "source": [
    "import pandas as pd\n",
    "import numpy as np"
   ]
  },
  {
   "cell_type": "code",
   "execution_count": 2,
   "metadata": {},
   "outputs": [
    {
     "name": "stdout",
     "output_type": "stream",
     "text": [
      "<class 'pandas.core.frame.DataFrame'>\n",
      "  InvoiceNo StockCode                          Description  Quantity  \\\n",
      "0    536365    85123A   WHITE HANGING HEART T-LIGHT HOLDER         6   \n",
      "1    536365     71053                  WHITE METAL LANTERN         6   \n",
      "2    536365    84406B       CREAM CUPID HEARTS COAT HANGER         8   \n",
      "3    536365    84029G  KNITTED UNION FLAG HOT WATER BOTTLE         6   \n",
      "4    536365    84029E       RED WOOLLY HOTTIE WHITE HEART.         6   \n",
      "\n",
      "    InvoiceDate  UnitPrice  CustomerID         Country  \n",
      "0  12/1/10 8:26       2.55     17850.0  United Kingdom  \n",
      "1  12/1/10 8:26       3.39     17850.0  United Kingdom  \n",
      "2  12/1/10 8:26       2.75     17850.0  United Kingdom  \n",
      "3  12/1/10 8:26       3.39     17850.0  United Kingdom  \n",
      "4  12/1/10 8:26       3.39     17850.0  United Kingdom  \n"
     ]
    }
   ],
   "source": [
    "path = r'C:\\Users\\seboc\\OneDrive\\Escritorio\\PROJECTS\\DATASCIENCE\\CursoPythonDataScience\\Online_Retail.csv'\n",
    "retail_data = pd.read_csv(path,encoding='windows-1252')\n",
    "print(type(retail_data))\n",
    "print(retail_data.head())"
   ]
  },
  {
   "cell_type": "code",
   "execution_count": 3,
   "metadata": {},
   "outputs": [
    {
     "name": "stdout",
     "output_type": "stream",
     "text": [
      "        InvoiceNo  StockCode  Description  Quantity  InvoiceDate  UnitPrice  \\\n",
      "0           False      False        False     False        False      False   \n",
      "1           False      False        False     False        False      False   \n",
      "2           False      False        False     False        False      False   \n",
      "3           False      False        False     False        False      False   \n",
      "4           False      False        False     False        False      False   \n",
      "...           ...        ...          ...       ...          ...        ...   \n",
      "541904      False      False        False     False        False      False   \n",
      "541905      False      False        False     False        False      False   \n",
      "541906      False      False        False     False        False      False   \n",
      "541907      False      False        False     False        False      False   \n",
      "541908      False      False        False     False        False      False   \n",
      "\n",
      "        CustomerID  Country  \n",
      "0            False    False  \n",
      "1            False    False  \n",
      "2            False    False  \n",
      "3            False    False  \n",
      "4            False    False  \n",
      "...            ...      ...  \n",
      "541904       False    False  \n",
      "541905       False    False  \n",
      "541906       False    False  \n",
      "541907       False    False  \n",
      "541908       False    False  \n",
      "\n",
      "[541909 rows x 8 columns]\n"
     ]
    }
   ],
   "source": [
    "missing_data = retail_data.isna()\n",
    "print(missing_data)"
   ]
  },
  {
   "cell_type": "code",
   "execution_count": 4,
   "metadata": {},
   "outputs": [
    {
     "name": "stdout",
     "output_type": "stream",
     "text": [
      "   InvoiceNo  StockCode  Description  Quantity  InvoiceDate  UnitPrice  \\\n",
      "0      False      False        False     False        False      False   \n",
      "1      False      False        False     False        False      False   \n",
      "2      False      False        False     False        False      False   \n",
      "3      False      False        False     False        False      False   \n",
      "4      False      False        False     False        False      False   \n",
      "\n",
      "   CustomerID  Country  \n",
      "0       False    False  \n",
      "1       False    False  \n",
      "2       False    False  \n",
      "3       False    False  \n",
      "4       False    False  \n"
     ]
    }
   ],
   "source": [
    "print(missing_data.head())"
   ]
  },
  {
   "cell_type": "code",
   "execution_count": 7,
   "metadata": {},
   "outputs": [
    {
     "name": "stdout",
     "output_type": "stream",
     "text": [
      "Conteo de datos faltantes por columna: \n",
      " InvoiceNo           0\n",
      "StockCode           0\n",
      "Description      1454\n",
      "Quantity            0\n",
      "InvoiceDate         0\n",
      "UnitPrice           0\n",
      "CustomerID     135080\n",
      "Country             0\n",
      "dtype: int64\n"
     ]
    }
   ],
   "source": [
    "missing_data_count = retail_data.isna().sum()\n",
    "print(\"Conteo de datos faltantes por columna: \\n\",missing_data_count)"
   ]
  },
  {
   "cell_type": "markdown",
   "metadata": {},
   "source": [
    "## Eliminando las filas que contienen un valor nulo"
   ]
  },
  {
   "cell_type": "code",
   "execution_count": 9,
   "metadata": {},
   "outputs": [
    {
     "name": "stdout",
     "output_type": "stream",
     "text": [
      "Datos sin valores faltantes: \n",
      "        InvoiceNo StockCode                          Description  Quantity  \\\n",
      "0         536365    85123A   WHITE HANGING HEART T-LIGHT HOLDER         6   \n",
      "1         536365     71053                  WHITE METAL LANTERN         6   \n",
      "2         536365    84406B       CREAM CUPID HEARTS COAT HANGER         8   \n",
      "3         536365    84029G  KNITTED UNION FLAG HOT WATER BOTTLE         6   \n",
      "4         536365    84029E       RED WOOLLY HOTTIE WHITE HEART.         6   \n",
      "...          ...       ...                                  ...       ...   \n",
      "541904    581587     22613          PACK OF 20 SPACEBOY NAPKINS        12   \n",
      "541905    581587     22899         CHILDREN'S APRON DOLLY GIRL          6   \n",
      "541906    581587     23254        CHILDRENS CUTLERY DOLLY GIRL          4   \n",
      "541907    581587     23255      CHILDRENS CUTLERY CIRCUS PARADE         4   \n",
      "541908    581587     22138        BAKING SET 9 PIECE RETROSPOT          3   \n",
      "\n",
      "          InvoiceDate  UnitPrice  CustomerID         Country  \n",
      "0        12/1/10 8:26       2.55     17850.0  United Kingdom  \n",
      "1        12/1/10 8:26       3.39     17850.0  United Kingdom  \n",
      "2        12/1/10 8:26       2.75     17850.0  United Kingdom  \n",
      "3        12/1/10 8:26       3.39     17850.0  United Kingdom  \n",
      "4        12/1/10 8:26       3.39     17850.0  United Kingdom  \n",
      "...               ...        ...         ...             ...  \n",
      "541904  12/9/11 12:50       0.85     12680.0          France  \n",
      "541905  12/9/11 12:50       2.10     12680.0          France  \n",
      "541906  12/9/11 12:50       4.15     12680.0          France  \n",
      "541907  12/9/11 12:50       4.15     12680.0          France  \n",
      "541908  12/9/11 12:50       4.95     12680.0          France  \n",
      "\n",
      "[406829 rows x 8 columns]\n"
     ]
    }
   ],
   "source": [
    "no_missing_row = retail_data.dropna()\n",
    "print(\"Datos sin valores faltantes: \\n\",no_missing_row)"
   ]
  },
  {
   "cell_type": "markdown",
   "metadata": {},
   "source": [
    "### 1. **Identificación de Datos Faltantes**\n",
    "\n",
    "Para identificar valores faltantes en un DataFrame o Serie de Pandas, puedes utilizar los siguientes métodos:\n",
    "\n",
    "#### **isnull() y notnull()**\n",
    "\n",
    "- **isnull()**: Devuelve True para cada celda que contenga un valor nulo (NaN).\n",
    "\n",
    "- **notnull()**: Devuelve True para cada celda que **no** sea nula."
   ]
  },
  {
   "cell_type": "code",
   "execution_count": 28,
   "metadata": {},
   "outputs": [
    {
     "name": "stdout",
     "output_type": "stream",
     "text": [
      "   Nombre   Edad  Ciudad\n",
      "0   False  False   False\n",
      "1   False   True   False\n",
      "2    True  False   False\n",
      "3    True   True   False\n",
      "   Nombre   Edad  Ciudad\n",
      "0    True   True    True\n",
      "1    True  False    True\n",
      "2   False   True    True\n",
      "3   False  False    True\n"
     ]
    }
   ],
   "source": [
    "# Crear un DataFrame con valores faltantes\n",
    "\n",
    "data = {'Nombre': ['Ana', 'Luis', np.nan, np.nan],\n",
    "       'Edad': [23, np.nan, 36, np.nan],\n",
    "      'Ciudad': ['Madrid', 'Barcelona', 'Valencia','Pitalito']}\n",
    "\n",
    "\n",
    "\n",
    "df = pd.DataFrame(data)\n",
    "\n",
    "\n",
    "\n",
    "# Identificar valores faltantes\n",
    "\n",
    "print(df.isnull())\n",
    "\n",
    "\n",
    "\n",
    "# Identificar valores que no son faltantes\n",
    "\n",
    "print(df.notnull())"
   ]
  },
  {
   "cell_type": "markdown",
   "metadata": {},
   "source": [
    "### 2. **Eliminación de Datos Faltantes**\n",
    "\n",
    "Si decides eliminar las filas o columnas con datos faltantes, Pandas ofrece varias formas de hacerlo.\n",
    "\n",
    "#### **dropna()**\n",
    "\n",
    "Este método elimina filas o columnas que contienen valores nulos."
   ]
  },
  {
   "cell_type": "code",
   "execution_count": 29,
   "metadata": {},
   "outputs": [
    {
     "name": "stdout",
     "output_type": "stream",
     "text": [
      "Eliminar todas las filas que tienen al menos un valor faltante\n",
      "  Nombre  Edad  Ciudad\n",
      "0    Ana  23.0  Madrid\n",
      "--------------------\n",
      "Eliminar columnas que tienen al menos un valor faltante\n",
      "      Ciudad\n",
      "0     Madrid\n",
      "1  Barcelona\n",
      "2   Valencia\n",
      "3   Pitalito\n",
      "--------------------\n",
      "Eliminar solo las filas en las que todos los valores son nulos\n",
      "  Nombre  Edad     Ciudad\n",
      "0    Ana  23.0     Madrid\n",
      "1   Luis   NaN  Barcelona\n",
      "2    NaN  36.0   Valencia\n",
      "3    NaN   NaN   Pitalito\n",
      "--------------------\n",
      "Eliminar filas solo si tienen más de un valor nulo\n",
      "  Nombre  Edad     Ciudad\n",
      "0    Ana  23.0     Madrid\n",
      "1   Luis   NaN  Barcelona\n",
      "2    NaN  36.0   Valencia\n"
     ]
    }
   ],
   "source": [
    "# Eliminar todas las filas que tienen al menos un valor faltante\n",
    "df_sin_na_filas = df.dropna()\n",
    "\n",
    "# Eliminar columnas que tienen al menos un valor faltante\n",
    "df_sin_na_columnas = df.dropna(axis=1)\n",
    "\n",
    "# Eliminar solo las filas en las que todos los valores son nulos\n",
    "df_sin_na_filas_todos = df.dropna(how='all')\n",
    "\n",
    "# Eliminar filas solo si tienen más de un valor nulo\n",
    "df_sin_na_thresh = df.dropna(thresh=2)\n",
    "\n",
    "\n",
    "print(\"Eliminar todas las filas que tienen al menos un valor faltante\")\n",
    "print(df_sin_na_filas)\n",
    "print(\"--------------------\")\n",
    "print(\"Eliminar columnas que tienen al menos un valor faltante\")\n",
    "print(df_sin_na_columnas)\n",
    "print(\"--------------------\")\n",
    "print(\"Eliminar solo las filas en las que todos los valores son nulos\")\n",
    "print(df_sin_na_filas_todos)\n",
    "print(\"--------------------\")\n",
    "print(\"Eliminar filas solo si tienen más de un valor nulo\")\n",
    "print(df_sin_na_thresh)"
   ]
  },
  {
   "cell_type": "markdown",
   "metadata": {},
   "source": [
    "### 3. **Rellenar Datos Faltantes**\n",
    "\n",
    "En lugar de eliminar los datos, a veces es mejor **rellenar** los valores faltantes con una aproximación. Esto es conocido como **imputación de datos**.\n",
    "\n",
    "#### **fillna()**\n",
    "\n",
    "Rellena los valores nulos con un valor específico."
   ]
  },
  {
   "cell_type": "code",
   "execution_count": 30,
   "metadata": {},
   "outputs": [
    {
     "name": "stdout",
     "output_type": "stream",
     "text": [
      "DF original\n",
      "  Nombre  Edad     Ciudad\n",
      "0    Ana  23.0     Madrid\n",
      "1   Luis   NaN  Barcelona\n",
      "2    NaN  36.0   Valencia\n",
      "3    NaN   NaN   Pitalito\n",
      "Rellenar los valores faltantes con un valor constante\n",
      "  Nombre  Edad     Ciudad\n",
      "0    Ana  23.0     Madrid\n",
      "1   Luis   0.0  Barcelona\n",
      "2      0  36.0   Valencia\n",
      "3      0   0.0   Pitalito\n",
      "Rellenar los valores faltantes con el valor anterior (forward fill)\n",
      "  Nombre  Edad     Ciudad\n",
      "0    Ana  23.0     Madrid\n",
      "1   Luis  23.0  Barcelona\n",
      "2   Luis  36.0   Valencia\n",
      "3   Luis  36.0   Pitalito\n",
      "Rellenar los valores faltantes con el valor siguiente (backward fill)\n",
      "  Nombre  Edad     Ciudad\n",
      "0    Ana  23.0     Madrid\n",
      "1   Luis  36.0  Barcelona\n",
      "2    NaN  36.0   Valencia\n",
      "3    NaN   NaN   Pitalito\n",
      "Rellenar los valores faltantes con la media de una columna\n",
      "  Nombre  Edad     Ciudad\n",
      "0    Ana  23.0     Madrid\n",
      "1   Luis  29.5  Barcelona\n",
      "2    NaN  36.0   Valencia\n",
      "3    NaN  29.5   Pitalito\n"
     ]
    },
    {
     "name": "stderr",
     "output_type": "stream",
     "text": [
      "C:\\Users\\seboc\\AppData\\Local\\Temp\\ipykernel_28588\\2366745296.py:7: FutureWarning: DataFrame.fillna with 'method' is deprecated and will raise in a future version. Use obj.ffill() or obj.bfill() instead.\n",
      "  df_forward_fill = df.fillna(method='ffill')\n",
      "C:\\Users\\seboc\\AppData\\Local\\Temp\\ipykernel_28588\\2366745296.py:10: FutureWarning: DataFrame.fillna with 'method' is deprecated and will raise in a future version. Use obj.ffill() or obj.bfill() instead.\n",
      "  df_backward_fill = df.fillna(method='bfill')\n"
     ]
    }
   ],
   "source": [
    "df_copy = df.copy()\n",
    "\n",
    "# Rellenar los valores faltantes con un valor constante\n",
    "df_rellenado = df.fillna(0)\n",
    "\n",
    "# Rellenar los valores faltantes con el valor anterior (forward fill)\n",
    "df_forward_fill = df.fillna(method='ffill')\n",
    "\n",
    "# Rellenar los valores faltantes con el valor siguiente (backward fill)\n",
    "df_backward_fill = df.fillna(method='bfill')\n",
    "\n",
    "# Rellenar los valores faltantes con la media de una columna\n",
    "df['Edad'] = df['Edad'].fillna(df['Edad'].mean())\n",
    "\n",
    "print('DF original')\n",
    "print(df_copy)\n",
    "print('Rellenar los valores faltantes con un valor constante')\n",
    "print(df_rellenado)\n",
    "print('Rellenar los valores faltantes con el valor anterior (forward fill)')\n",
    "print(df_forward_fill)\n",
    "print('Rellenar los valores faltantes con el valor siguiente (backward fill)')\n",
    "print(df_backward_fill)\n",
    "print('Rellenar los valores faltantes con la media de una columna')\n",
    "print(df)\n",
    "\n"
   ]
  },
  {
   "cell_type": "markdown",
   "metadata": {},
   "source": [
    "### 4. **Reemplazar Datos Faltantes con Métodos Estadísticos**\n",
    "\n",
    "A veces es más efectivo reemplazar los valores faltantes con la **media, mediana o moda** de una columna, especialmente cuando trabajas con variables numéricas.\n",
    "\n",
    "#### **Imputación con Media, Mediana o Moda**"
   ]
  },
  {
   "cell_type": "code",
   "execution_count": 33,
   "metadata": {},
   "outputs": [
    {
     "name": "stdout",
     "output_type": "stream",
     "text": [
      "  Nombre  Edad     Ciudad\n",
      "0    Ana  23.0     Madrid\n",
      "1   Luis   NaN  Barcelona\n",
      "2    NaN  36.0   Valencia\n",
      "3    NaN   NaN   Pitalito\n",
      "  Nombre  Edad     Ciudad\n",
      "0    Ana  23.0     Madrid\n",
      "1   Luis  29.5  Barcelona\n",
      "2    NaN  36.0   Valencia\n",
      "3    NaN  29.5   Pitalito\n",
      "  Nombre  Edad     Ciudad\n",
      "0    Ana  23.0     Madrid\n",
      "1   Luis  29.5  Barcelona\n",
      "2    NaN  36.0   Valencia\n",
      "3    NaN  29.5   Pitalito\n",
      "  Nombre  Edad     Ciudad\n",
      "0    Ana  23.0     Madrid\n",
      "1   Luis  23.0  Barcelona\n",
      "2    NaN  36.0   Valencia\n",
      "3    NaN  23.0   Pitalito\n"
     ]
    }
   ],
   "source": [
    "data = {'Nombre': ['Ana', 'Luis', np.nan, np.nan],\n",
    "       'Edad': [23, np.nan, 36, np.nan],\n",
    "      'Ciudad': ['Madrid', 'Barcelona', 'Valencia','Pitalito']}\n",
    "\n",
    "df = pd.DataFrame(data)\n",
    "\n",
    "df_median = df.copy()\n",
    "df_mode = df.copy()\n",
    "df_mean = df.copy()\n",
    "\n",
    "# Rellenar los valores faltantes con la media de una columna\n",
    "df_mean['Edad'] = df['Edad'].fillna(df['Edad'].mean())\n",
    "\n",
    "# Rellenar los valores faltantes con la mediana de una columna\n",
    "df_median['Edad'] = df['Edad'].fillna(df['Edad'].median())\n",
    "\n",
    "# Rellenar los valores faltantes con la moda de una columna\n",
    "df_mode['Edad'] = df['Edad'].fillna(df['Edad'].mode()[0])\n",
    "\n",
    "print(df)\n",
    "print(df_mean)\n",
    "print(df_median)\n",
    "print(df_mode)"
   ]
  },
  {
   "cell_type": "markdown",
   "metadata": {},
   "source": [
    "### 7. **Modificar el DataFrame con Datos Faltantes**\n",
    "\n",
    "Algunas veces es útil modificar el DataFrame original para cambiar cómo Pandas maneja los datos faltantes.\n",
    "\n",
    "#### **replace()**\n",
    "\n",
    "Te permite reemplazar valores específicos (incluidos los NaN).\n",
    "\n",
    "\n",
    "\n",
    "\\# Reemplazar valores NaN con un valor específico\n",
    "\n",
    "df\\_reemplazado = df.replace(np.nan, 'Desconocido')"
   ]
  },
  {
   "cell_type": "markdown",
   "metadata": {},
   "source": [
    "## Eliminando las columnas que contienen un valor nulo"
   ]
  },
  {
   "cell_type": "code",
   "execution_count": 10,
   "metadata": {},
   "outputs": [
    {
     "name": "stdout",
     "output_type": "stream",
     "text": [
      "Datos sin columnas con valores faltantes: \n",
      "        InvoiceNo StockCode  Quantity    InvoiceDate  UnitPrice         Country\n",
      "0         536365    85123A         6   12/1/10 8:26       2.55  United Kingdom\n",
      "1         536365     71053         6   12/1/10 8:26       3.39  United Kingdom\n",
      "2         536365    84406B         8   12/1/10 8:26       2.75  United Kingdom\n",
      "3         536365    84029G         6   12/1/10 8:26       3.39  United Kingdom\n",
      "4         536365    84029E         6   12/1/10 8:26       3.39  United Kingdom\n",
      "...          ...       ...       ...            ...        ...             ...\n",
      "541904    581587     22613        12  12/9/11 12:50       0.85          France\n",
      "541905    581587     22899         6  12/9/11 12:50       2.10          France\n",
      "541906    581587     23254         4  12/9/11 12:50       4.15          France\n",
      "541907    581587     23255         4  12/9/11 12:50       4.15          France\n",
      "541908    581587     22138         3  12/9/11 12:50       4.95          France\n",
      "\n",
      "[541909 rows x 6 columns]\n"
     ]
    }
   ],
   "source": [
    "no_missing_columns = retail_data.dropna(axis=1)\n",
    "print(\"Datos sin columnas con valores faltantes: \\n\",no_missing_columns)"
   ]
  },
  {
   "cell_type": "markdown",
   "metadata": {},
   "source": [
    "## Reemplezando los valores NaN por 0"
   ]
  },
  {
   "cell_type": "code",
   "execution_count": 11,
   "metadata": {},
   "outputs": [
    {
     "name": "stdout",
     "output_type": "stream",
     "text": [
      "Datos llenados con ceros: \n",
      "        InvoiceNo StockCode                          Description  Quantity  \\\n",
      "0         536365    85123A   WHITE HANGING HEART T-LIGHT HOLDER         6   \n",
      "1         536365     71053                  WHITE METAL LANTERN         6   \n",
      "2         536365    84406B       CREAM CUPID HEARTS COAT HANGER         8   \n",
      "3         536365    84029G  KNITTED UNION FLAG HOT WATER BOTTLE         6   \n",
      "4         536365    84029E       RED WOOLLY HOTTIE WHITE HEART.         6   \n",
      "...          ...       ...                                  ...       ...   \n",
      "541904    581587     22613          PACK OF 20 SPACEBOY NAPKINS        12   \n",
      "541905    581587     22899         CHILDREN'S APRON DOLLY GIRL          6   \n",
      "541906    581587     23254        CHILDRENS CUTLERY DOLLY GIRL          4   \n",
      "541907    581587     23255      CHILDRENS CUTLERY CIRCUS PARADE         4   \n",
      "541908    581587     22138        BAKING SET 9 PIECE RETROSPOT          3   \n",
      "\n",
      "          InvoiceDate  UnitPrice  CustomerID         Country  \n",
      "0        12/1/10 8:26       2.55     17850.0  United Kingdom  \n",
      "1        12/1/10 8:26       3.39     17850.0  United Kingdom  \n",
      "2        12/1/10 8:26       2.75     17850.0  United Kingdom  \n",
      "3        12/1/10 8:26       3.39     17850.0  United Kingdom  \n",
      "4        12/1/10 8:26       3.39     17850.0  United Kingdom  \n",
      "...               ...        ...         ...             ...  \n",
      "541904  12/9/11 12:50       0.85     12680.0          France  \n",
      "541905  12/9/11 12:50       2.10     12680.0          France  \n",
      "541906  12/9/11 12:50       4.15     12680.0          France  \n",
      "541907  12/9/11 12:50       4.15     12680.0          France  \n",
      "541908  12/9/11 12:50       4.95     12680.0          France  \n",
      "\n",
      "[541909 rows x 8 columns]\n"
     ]
    }
   ],
   "source": [
    "reatil_data_filled_zeros = retail_data.fillna(0)\n",
    "print(\"Datos llenados con ceros: \\n\",reatil_data_filled_zeros)"
   ]
  },
  {
   "cell_type": "code",
   "execution_count": 13,
   "metadata": {},
   "outputs": [
    {
     "name": "stdout",
     "output_type": "stream",
     "text": [
      "Datos faltantes: \n",
      " InvoiceNo      0\n",
      "StockCode      0\n",
      "Description    0\n",
      "Quantity       0\n",
      "InvoiceDate    0\n",
      "UnitPrice      0\n",
      "CustomerID     0\n",
      "Country        0\n",
      "dtype: int64\n"
     ]
    }
   ],
   "source": [
    "missing_data = reatil_data_filled_zeros.isna().sum()\n",
    "print(\"Datos faltantes: \\n\",missing_data)"
   ]
  },
  {
   "cell_type": "code",
   "execution_count": 14,
   "metadata": {},
   "outputs": [
    {
     "name": "stdout",
     "output_type": "stream",
     "text": [
      "Datos llenados con la media: \n",
      " 0         2.55\n",
      "1         3.39\n",
      "2         2.75\n",
      "3         3.39\n",
      "4         3.39\n",
      "          ... \n",
      "541904    0.85\n",
      "541905    2.10\n",
      "541906    4.15\n",
      "541907    4.15\n",
      "541908    4.95\n",
      "Name: UnitPrice, Length: 541909, dtype: float64\n"
     ]
    }
   ],
   "source": [
    "mean_unit_price = retail_data['UnitPrice'].mean()\n",
    "retail_data_filled_mean = retail_data['UnitPrice'].fillna(mean_unit_price)\n",
    "print(\"Datos llenados con la media: \\n\",retail_data_filled_mean)"
   ]
  },
  {
   "cell_type": "code",
   "execution_count": null,
   "metadata": {},
   "outputs": [],
   "source": []
  }
 ],
 "metadata": {
  "kernelspec": {
   "display_name": "Python 3",
   "language": "python",
   "name": "python3"
  },
  "language_info": {
   "codemirror_mode": {
    "name": "ipython",
    "version": 3
   },
   "file_extension": ".py",
   "mimetype": "text/x-python",
   "name": "python",
   "nbconvert_exporter": "python",
   "pygments_lexer": "ipython3",
   "version": "3.11.5"
  }
 },
 "nbformat": 4,
 "nbformat_minor": 2
}
