{
 "cells": [
  {
   "cell_type": "markdown",
   "metadata": {},
   "source": [
    "\n",
    "# Lambdas in Python: An In-Depth Guide"
   ]
  },
  {
   "cell_type": "markdown",
   "metadata": {},
   "source": [
    "## What Are Lambdas?\n",
    "In Python, a lambda is a small anonymous function that is defined using the `lambda` keyword. Lambdas are often used for short-term, throwaway functions that are not complex enough to require a full `def` function definition.\n",
    "\n",
    "The general syntax of a lambda function is:\n",
    "```python\n",
    "lambda arguments: expression\n",
    "```\n",
    "\n",
    "- **Arguments**: A comma-separated list of arguments (like a regular function).\n",
    "- **Expression**: A single expression that is evaluated and returned.\n",
    "\n",
    "Example:\n",
    "```python\n",
    "# A lambda function that adds 10 to its input\n",
    "add_ten = lambda x: x + 10\n",
    "print(add_ten(5))  # Output: 15\n",
    "```"
   ]
  },
  {
   "cell_type": "markdown",
   "metadata": {},
   "source": [
    "## Key Characteristics of Lambda Functions\n",
    "1. **Anonymous**: Lambdas do not have a name unless explicitly assigned to one.\n",
    "2. **Single Expression**: They can only contain a single expression (no statements or multiline logic).\n",
    "3. **Short-Lived**: Often used as inline functions for quick, temporary tasks."
   ]
  },
  {
   "cell_type": "markdown",
   "metadata": {},
   "source": [
    "## Common Use Cases"
   ]
  },
  {
   "cell_type": "markdown",
   "metadata": {},
   "source": [
    "### 1. Functional Programming\n",
    "Lambda functions are frequently used with functions like `map`, `filter`, and `reduce`.\n",
    "\n",
    "#### Using `map`\n",
    "`map` applies a function to every item in an iterable.\n",
    "```python\n",
    "numbers = [1, 2, 3, 4]\n",
    "squared = list(map(lambda x: x ** 2, numbers))\n",
    "print(squared)  # Output: [1, 4, 9, 16]\n",
    "```\n",
    "\n",
    "#### Using `filter`\n",
    "`filter` selects items from an iterable based on a condition.\n",
    "```python\n",
    "numbers = [1, 2, 3, 4, 5]\n",
    "evens = list(filter(lambda x: x % 2 == 0, numbers))\n",
    "print(evens)  # Output: [2, 4]\n",
    "```\n",
    "\n",
    "#### Using `reduce`\n",
    "`reduce` combines elements of an iterable using a binary function. It is found in the `functools` module.\n",
    "```python\n",
    "from functools import reduce\n",
    "numbers = [1, 2, 3, 4]\n",
    "product = reduce(lambda x, y: x * y, numbers)\n",
    "print(product)  # Output: 24\n",
    "```"
   ]
  },
  {
   "cell_type": "markdown",
   "metadata": {},
   "source": [
    "### 2. Sorting with Lambdas\n",
    "Lambdas are often used as the `key` argument in sorting functions.\n",
    "```python\n",
    "people = [\n",
    "    {'name': 'Alice', 'age': 25},\n",
    "    {'name': 'Bob', 'age': 30},\n",
    "    {'name': 'Charlie', 'age': 20}\n",
    "]\n",
    "\n",
    "# Sort by age\n",
    "sorted_people = sorted(people, key=lambda person: person['age'])\n",
    "print(sorted_people)\n",
    "# Output: [{'name': 'Charlie', 'age': 20}, {'name': 'Alice', 'age': 25}, {'name': 'Bob', 'age': 30}]"
   ]
  },
  {
   "cell_type": "markdown",
   "metadata": {},
   "source": [
    "### 3. Inline Conditional Expressions\n",
    "Lambdas can include conditional expressions for inline logic.\n",
    "```python\n",
    "# Determine if a number is positive, negative, or zero\n",
    "describe_number = lambda x: 'Positive' if x > 0 else ('Negative' if x < 0 else 'Zero')\n",
    "print(describe_number(-5))  # Output: Negative\n",
    "print(describe_number(0))   # Output: Zero\n",
    "```"
   ]
  },
  {
   "cell_type": "markdown",
   "metadata": {},
   "source": [
    "## Advanced Examples\n",
    "\n",
    "### 1. Multiple Arguments\n",
    "Lambdas can take multiple arguments.\n",
    "```python\n",
    "add = lambda x, y: x + y\n",
    "print(add(3, 5))  # Output: 8\n",
    "```\n",
    "\n",
    "### 2. Higher-Order Functions\n",
    "Lambdas can return other functions.\n",
    "```python\n",
    "# A lambda that returns another lambda\n",
    "make_multiplier = lambda n: lambda x: x * n\n",
    "triple = make_multiplier(3)\n",
    "print(triple(10))  # Output: 30\n",
    "```\n",
    "\n",
    "### 3. Using with `any` and `all`\n",
    "Lambdas can simplify logic with `any` and `all`.\n",
    "```python\n",
    "numbers = [1, 2, 3, 4]\n",
    "all_even = all(map(lambda x: x % 2 == 0, numbers))\n",
    "print(all_even)  # Output: False\n",
    "```"
   ]
  },
  {
   "cell_type": "markdown",
   "metadata": {},
   "source": [
    "## Best Practices\n",
    "1. **Use for Simple Operations**: Lambdas are ideal for simple, single-use functions.\n",
    "2. **Avoid Overcomplicating**: For complex logic, use a regular `def` function.\n",
    "3. **Combine with Built-Ins**: Leverage lambdas with `map`, `filter`, `sorted`, etc., to write concise code."
   ]
  },
  {
   "cell_type": "markdown",
   "metadata": {},
   "source": []
  }
 ],
 "metadata": {
  "language_info": {
   "name": "python"
  }
 },
 "nbformat": 4,
 "nbformat_minor": 2
}
