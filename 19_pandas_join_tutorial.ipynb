{
 "cells": [
  {
   "cell_type": "markdown",
   "id": "7e080deb",
   "metadata": {},
   "source": [
    "# Pandas `join()` Function - Detailed Explanation\n",
    "\n",
    "The `join()` function in pandas is used to combine two DataFrames **based on their indexes**. It provides an easy and efficient way to merge datasets that share a common index.\n",
    "\n",
    "## Syntax:\n",
    "```python\n",
    "DataFrame.join(other, on=None, how='left', lsuffix='', rsuffix='', sort=False)\n",
    "```\n",
    "\n",
    "## Parameters:\n",
    "- `other`: DataFrame, Series, or list of DataFrames to join with the caller.\n",
    "- `on`: Column or index level name. It’s used when joining on a key other than the index.\n",
    "- `how`: The type of join to perform:\n",
    "  - `'left'`: Keep all rows from the left DataFrame and merge matching rows from the right.\n",
    "  - `'right'`: Keep all rows from the right DataFrame and merge matching rows from the left.\n",
    "  - `'outer'`: Keep all rows from both DataFrames, filling in missing values where necessary.\n",
    "  - `'inner'`: Keep only the rows that exist in both DataFrames.\n",
    "- `lsuffix`: Suffix to apply to overlapping column names from the left DataFrame.\n",
    "- `rsuffix`: Suffix to apply to overlapping column names from the right DataFrame.\n",
    "- `sort`: If `True`, the result is sorted by the join key.\n",
    "\n",
    "## Example DataFrames:\n"
   ]
  },
  {
   "cell_type": "code",
   "execution_count": 1,
   "id": "4248fdf8",
   "metadata": {},
   "outputs": [
    {
     "data": {
      "text/plain": [
       "(     Name  Age  Salary\n",
       " ID                    \n",
       " 1   Alice   25   50000\n",
       " 2     Bob   30   60000,\n",
       "        Name  Age   Salary\n",
       " ID                       \n",
       " 1     Alice   25  50000.0\n",
       " 2       Bob   30  60000.0\n",
       " 3   Charlie   35      NaN,\n",
       "      Name   Age  Salary\n",
       " ID                     \n",
       " 1   Alice  25.0   50000\n",
       " 2     Bob  30.0   60000\n",
       " 4     NaN   NaN   70000,\n",
       "        Name   Age   Salary\n",
       " ID                        \n",
       " 1     Alice  25.0  50000.0\n",
       " 2       Bob  30.0  60000.0\n",
       " 3   Charlie  35.0      NaN\n",
       " 4       NaN   NaN  70000.0)"
      ]
     },
     "execution_count": 1,
     "metadata": {},
     "output_type": "execute_result"
    }
   ],
   "source": [
    "import pandas as pd\n",
    "\n",
    "# Creating two sample DataFrames\n",
    "df1 = pd.DataFrame({\n",
    "    'ID': [1, 2, 3],\n",
    "    'Name': ['Alice', 'Bob', 'Charlie'],\n",
    "    'Age': [25, 30, 35]\n",
    "}).set_index('ID')\n",
    "\n",
    "df2 = pd.DataFrame({\n",
    "    'ID': [1, 2, 4],\n",
    "    'Salary': [50000, 60000, 70000]\n",
    "}).set_index('ID')\n",
    "\n",
    "# Performing different types of joins\n",
    "inner_join = df1.join(df2, how='inner')  # Only matching IDs\n",
    "left_join = df1.join(df2, how='left')  # All IDs from df1\n",
    "right_join = df1.join(df2, how='right')  # All IDs from df2\n",
    "outer_join = df1.join(df2, how='outer')  # All IDs from both DataFrames\n",
    "\n",
    "# Display results\n",
    "(inner_join, left_join, right_join, outer_join)\n"
   ]
  },
  {
   "cell_type": "markdown",
   "id": "7a5a1f39",
   "metadata": {},
   "source": [
    "### Utilizando el parametro on"
   ]
  },
  {
   "cell_type": "code",
   "execution_count": null,
   "id": "b6b9848d",
   "metadata": {},
   "outputs": [],
   "source": [
    "\n",
    "# Crear el primer DataFrame\n",
    "df1 = pd.DataFrame({\n",
    "    'ID': [1, 2, 3],\n",
    "    'Name': ['Alice', 'Bob', 'Charlie'],\n",
    "    'Age': [25, 30, 35]\n",
    "})\n",
    "\n",
    "# Crear el segundo DataFrame sin el mismo índice\n",
    "df2 = pd.DataFrame({\n",
    "    'ID': [1, 2, 4],\n",
    "    'Salary': [50000, 60000, 70000]\n",
    "})\n",
    "\n",
    "# Realizar la unión utilizando la columna \"ID\"\n",
    "result = df1.join(df2.set_index('ID'), on='ID', how='left')\n",
    "\n",
    "# Mostrar el resultado\n",
    "print(result)"
   ]
  },
  {
   "cell_type": "markdown",
   "id": "74106de7",
   "metadata": {},
   "source": [
    "## Exercises\n",
    "\n",
    "Try to solve the following exercises to deepen your understanding of the `join()` function.\n",
    "\n",
    "1. **Create your own DataFrames**: Create two DataFrames with a common column as the index and join them using different `how` parameters.\n",
    "2. **Use `on` parameter**: Modify one DataFrame to have a different index and use the `on` parameter to join them based on a column.\n",
    "3. **Handle missing values**: Perform an outer join and handle missing values using `.fillna()`.\n",
    "4. **Use suffixes**: Add columns with the same name to both DataFrames and use `lsuffix` and `rsuffix` to differentiate them.\n",
    "5. **Sort the results**: Perform a join operation and sort the resulting DataFrame.\n",
    "\n",
    "Try implementing these exercises in the following code cell.\n"
   ]
  },
  {
   "cell_type": "code",
   "execution_count": null,
   "id": "6fc7ddac",
   "metadata": {},
   "outputs": [],
   "source": [
    "# Your code here for exercises\n",
    "import pandas as pd\n",
    "\n",
    "# Create your DataFrames and test different join operations\n",
    "\n"
   ]
  }
 ],
 "metadata": {
  "kernelspec": {
   "display_name": "Python 3",
   "language": "python",
   "name": "python3"
  },
  "language_info": {
   "codemirror_mode": {
    "name": "ipython",
    "version": 3
   },
   "file_extension": ".py",
   "mimetype": "text/x-python",
   "name": "python",
   "nbconvert_exporter": "python",
   "pygments_lexer": "ipython3",
   "version": "3.11.5"
  }
 },
 "nbformat": 4,
 "nbformat_minor": 5
}
