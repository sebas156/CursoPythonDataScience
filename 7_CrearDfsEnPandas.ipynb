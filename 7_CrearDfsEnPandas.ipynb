{
 "cells": [
  {
   "cell_type": "code",
   "execution_count": 3,
   "metadata": {},
   "outputs": [],
   "source": [
    "import pandas as pd\n",
    "import numpy as np"
   ]
  },
  {
   "cell_type": "markdown",
   "metadata": {},
   "source": [
    "# Como crear dfs en Pandas"
   ]
  },
  {
   "cell_type": "code",
   "execution_count": 14,
   "metadata": {},
   "outputs": [
    {
     "name": "stdout",
     "output_type": "stream",
     "text": [
      "<class 'pandas.core.frame.DataFrame'>\n",
      "  InvoiceNo StockCode                          Description  Quantity  \\\n",
      "0    536365    85123A   WHITE HANGING HEART T-LIGHT HOLDER         6   \n",
      "1    536365     71053                  WHITE METAL LANTERN         6   \n",
      "2    536365    84406B       CREAM CUPID HEARTS COAT HANGER         8   \n",
      "3    536365    84029G  KNITTED UNION FLAG HOT WATER BOTTLE         6   \n",
      "4    536365    84029E       RED WOOLLY HOTTIE WHITE HEART.         6   \n",
      "\n",
      "    InvoiceDate  UnitPrice  CustomerID         Country  \n",
      "0  12/1/10 8:26       2.55     17850.0  United Kingdom  \n",
      "1  12/1/10 8:26       3.39     17850.0  United Kingdom  \n",
      "2  12/1/10 8:26       2.75     17850.0  United Kingdom  \n",
      "3  12/1/10 8:26       3.39     17850.0  United Kingdom  \n",
      "4  12/1/10 8:26       3.39     17850.0  United Kingdom  \n"
     ]
    }
   ],
   "source": [
    "path = r'C:\\Users\\seboc\\OneDrive\\Escritorio\\PROJECTS\\DATASCIENCE\\CursoPythonDataScience\\Online_Retail.csv'\n",
    "retail_data = pd.read_csv(path,encoding='windows-1252')\n",
    "print(type(retail_data))\n",
    "print(retail_data.head())\n",
    "\n",
    "#Excel\n",
    "#data_excel = pd.read_excel(path)\n",
    "\n",
    "#Json\n",
    "#data_json = pd.read_json(path)"
   ]
  },
  {
   "cell_type": "markdown",
   "metadata": {},
   "source": [
    "## Creando df a partir de arrays de NumPy"
   ]
  },
  {
   "cell_type": "code",
   "execution_count": 16,
   "metadata": {},
   "outputs": [
    {
     "name": "stdout",
     "output_type": "stream",
     "text": [
      "[[1 2 3]\n",
      " [4 5 6]\n",
      " [7 8 9]]\n",
      "   A  B  C\n",
      "0  1  2  3\n",
      "1  4  5  6\n",
      "2  7  8  9\n"
     ]
    }
   ],
   "source": [
    "data = np.array([[1,2,3],[4,5,6],[7,8,9]])\n",
    "\n",
    "df_from_array = pd.DataFrame(data, columns=['A','B','C'])\n",
    "\n",
    "print(data)\n",
    "print(df_from_array)"
   ]
  },
  {
   "cell_type": "markdown",
   "metadata": {},
   "source": [
    "## Creando df a partir de Litas y diccionarios nativos de python"
   ]
  },
  {
   "cell_type": "code",
   "execution_count": 17,
   "metadata": {},
   "outputs": [
    {
     "name": "stdout",
     "output_type": "stream",
     "text": [
      "[[1, 'Sebastian', 24], [2, 'Juan', 25], [3, 'Pedro', 26]]\n",
      "   ID       Name  Age\n",
      "0   1  Sebastian   24\n",
      "1   2       Juan   25\n",
      "2   3      Pedro   26\n"
     ]
    }
   ],
   "source": [
    "data = [[1,'Sebastian',24],[2,'Juan',25],[3,'Pedro',26]]\n",
    "\n",
    "df_from_list = pd.DataFrame(data, columns=['ID','Name','Age'])\n",
    "\n",
    "print(data)\n",
    "print(df_from_list)"
   ]
  },
  {
   "cell_type": "code",
   "execution_count": 20,
   "metadata": {},
   "outputs": [
    {
     "name": "stdout",
     "output_type": "stream",
     "text": [
      "[{'ID': 1, 'Name': 'Sebastian', 'Age': 24}, {'ID': 2, 'Name': 'Juan', 'Age': 25}, {'ID': 3, 'Name': 'Pedro', 'Age': 26}]\n",
      "   ID       Name  Age\n",
      "0   1  Sebastian   24\n",
      "1   2       Juan   25\n",
      "2   3      Pedro   26\n"
     ]
    }
   ],
   "source": [
    "data = [{'ID':1,'Name':'Sebastian','Age':24},    \n",
    "        {'ID':2,'Name':'Juan','Age':25},\n",
    "        {'ID':3,'Name':'Pedro','Age':26}]\n",
    "\n",
    "df_from_dictionary = pd.DataFrame(data)\n",
    "\n",
    "print(data)\n",
    "print(df_from_dictionary)"
   ]
  },
  {
   "cell_type": "code",
   "execution_count": 21,
   "metadata": {},
   "outputs": [
    {
     "name": "stdout",
     "output_type": "stream",
     "text": [
      "{'ID': [1, 2, 3], 'Name': ['Sebastian', 'Juan', 'Pedro'], 'Age': [24, 25, 26]}\n",
      "   ID       Name  Age\n",
      "0   1  Sebastian   24\n",
      "1   2       Juan   25\n",
      "2   3      Pedro   26\n"
     ]
    }
   ],
   "source": [
    "data = {'ID':[1,2,3],'Name':['Sebastian','Juan','Pedro'],'Age':[24,25,26]}\n",
    "df_from_dictionary = pd.DataFrame(data)\n",
    "\n",
    "print(data)\n",
    "print(df_from_dictionary)"
   ]
  },
  {
   "cell_type": "markdown",
   "metadata": {},
   "source": [
    "## Creando df a partir de series"
   ]
  },
  {
   "cell_type": "code",
   "execution_count": 26,
   "metadata": {},
   "outputs": [
    {
     "name": "stdout",
     "output_type": "stream",
     "text": [
      "{'ID': a    1\n",
      "b    2\n",
      "c    3\n",
      "dtype: int64, 'Name': a    Sebastian\n",
      "b         Juan\n",
      "c        Pedro\n",
      "dtype: object, 'Age': a    24\n",
      "b    25\n",
      "c    26\n",
      "dtype: int64}\n",
      "   ID       Name  Age\n",
      "a   1  Sebastian   24\n",
      "b   2       Juan   25\n",
      "c   3      Pedro   26\n"
     ]
    }
   ],
   "source": [
    "data = {'ID':pd.Series([1,2,3],index=['a','b','c']),    \n",
    "        'Name':pd.Series(['Sebastian','Juan','Pedro'],index=['a','b','c']),\n",
    "        'Age':pd.Series([24,25,26],index=['a','b','c'])}\n",
    "\n",
    "df_from_dictionary_with_series = pd.DataFrame(data)\n",
    "\n",
    "print(data)\n",
    "print(df_from_dictionary_with_series)"
   ]
  },
  {
   "cell_type": "code",
   "execution_count": null,
   "metadata": {},
   "outputs": [],
   "source": []
  }
 ],
 "metadata": {
  "kernelspec": {
   "display_name": "Python 3",
   "language": "python",
   "name": "python3"
  },
  "language_info": {
   "codemirror_mode": {
    "name": "ipython",
    "version": 3
   },
   "file_extension": ".py",
   "mimetype": "text/x-python",
   "name": "python",
   "nbconvert_exporter": "python",
   "pygments_lexer": "ipython3",
   "version": "3.11.5"
  }
 },
 "nbformat": 4,
 "nbformat_minor": 2
}
