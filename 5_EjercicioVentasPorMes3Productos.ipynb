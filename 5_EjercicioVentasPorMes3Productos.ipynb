{
 "cells": [
  {
   "cell_type": "markdown",
   "metadata": {},
   "source": [
    "# Ejercicio de ventas por mes de 3 productos"
   ]
  },
  {
   "cell_type": "markdown",
   "metadata": {},
   "source": [
    "## 1. Crear arrays con Datos de ventas"
   ]
  },
  {
   "cell_type": "code",
   "execution_count": 1,
   "metadata": {},
   "outputs": [],
   "source": [
    "import numpy as np\n",
    "\n",
    "meses = np.array(['Enero', 'Febrero', 'Marzo', 'Abril', 'Mayo', 'Junio',\n",
    "                'Julio', 'Agosto', 'Septiembre', 'Octubre', 'Noviembre', 'Diciembre'])\n",
    "ventas_A = np.array([150, 200, 250, 300, 220, 210, 180, 190, 230, 240, 280, 300])\n",
    "ventas_B = np.array([180, 210, 230, 250, 270, 260, 240, 250, 270, 290, 310, 330])\n",
    "ventas_C = np.array([200, 220, 240, 260, 280, 300, 320, 340, 360, 380, 400, 420])"
   ]
  },
  {
   "cell_type": "markdown",
   "metadata": {},
   "source": [
    "## Paso 2: Estadísticas Básicas"
   ]
  },
  {
   "cell_type": "code",
   "execution_count": 9,
   "metadata": {},
   "outputs": [
    {
     "name": "stdout",
     "output_type": "stream",
     "text": [
      "Media de ventas del producto A:  229.16666666666666\n",
      "Suma de ventas del producto A:  2750\n",
      "Media de ventas del producto B:  257.5\n",
      "Suma de ventas del producto B:  3090\n",
      "Media de ventas del producto C:  310.0 310.0\n",
      "Suma de ventas del producto C:  3720 3720\n"
     ]
    }
   ],
   "source": [
    "print(\"Media de ventas del producto A: \",ventas_A.mean())\n",
    "print(\"Suma de ventas del producto A: \",ventas_A.sum())\n",
    "\n",
    "print(\"Media de ventas del producto B: \",np.mean(ventas_B))\n",
    "print(\"Suma de ventas del producto B: \",np.sum(ventas_B))\n",
    "\n",
    "print(\"Media de ventas del producto C: \",ventas_C.mean(),np.mean(ventas_C))\n",
    "print(\"Suma de ventas del producto C: \",ventas_C.sum(),np.sum(ventas_C))"
   ]
  },
  {
   "cell_type": "markdown",
   "metadata": {},
   "source": [
    "## Paso 3: Manipulación y Análisis de Datos"
   ]
  },
  {
   "cell_type": "markdown",
   "metadata": {},
   "source": [
    "### Total de ventas por mes: Suma las ventas de los tres productos para cada mes."
   ]
  },
  {
   "cell_type": "code",
   "execution_count": 11,
   "metadata": {},
   "outputs": [
    {
     "name": "stdout",
     "output_type": "stream",
     "text": [
      "Ventas totales por mes:  [ 530  630  720  810  770  770  740  780  860  910  990 1050]\n"
     ]
    }
   ],
   "source": [
    "ventas_por_mes = ventas_A + ventas_B + ventas_C\n",
    "print(\"Ventas totales por mes: \",ventas_por_mes)"
   ]
  },
  {
   "cell_type": "markdown",
   "metadata": {},
   "source": [
    "### Promedio de ventas por producto: Calcula el promedio de ventas por producto."
   ]
  },
  {
   "cell_type": "code",
   "execution_count": 17,
   "metadata": {},
   "outputs": [
    {
     "name": "stdout",
     "output_type": "stream",
     "text": [
      "Media mensual de ventas del producto A:  229.16666666666666 229.16666666666666\n",
      "Media mensual de ventas del producto B:  257.5 257.5\n",
      "Media mensual de ventas del producto C:  310.0 310.0\n"
     ]
    }
   ],
   "source": [
    "average_A_1 = ventas_A.mean()\n",
    "average_A_2=ventas_A.sum()/len(ventas_A)\n",
    "print(\"Media mensual de ventas del producto A: \",average_A_1,average_A_2)\n",
    "\n",
    "average_B_1 = ventas_B.mean()\n",
    "average_B_2=ventas_B.sum()/len(ventas_B)\n",
    "print(\"Media mensual de ventas del producto B: \",average_B_1,average_B_2)\n",
    "\n",
    "average_C_1 = ventas_C.mean()\n",
    "average_C_2=ventas_C.sum()/len(ventas_C)\n",
    "print(\"Media mensual de ventas del producto C: \",average_C_1,average_C_2)"
   ]
  },
  {
   "cell_type": "code",
   "execution_count": 19,
   "metadata": {},
   "outputs": [
    {
     "name": "stdout",
     "output_type": "stream",
     "text": [
      "El mes con mayores ventas es:  Diciembre\n",
      "El mes con menores ventas es:  Enero\n"
     ]
    }
   ],
   "source": [
    "max = np.argmax(ventas_por_mes)\n",
    "min = np.argmin(ventas_por_mes)\n",
    "print(\"El mes con mayores ventas es: \",meses[max])\n",
    "print(\"El mes con menores ventas es: \",meses[min])"
   ]
  },
  {
   "cell_type": "code",
   "execution_count": null,
   "metadata": {},
   "outputs": [],
   "source": []
  }
 ],
 "metadata": {
  "kernelspec": {
   "display_name": "Python 3",
   "language": "python",
   "name": "python3"
  },
  "language_info": {
   "codemirror_mode": {
    "name": "ipython",
    "version": 3
   },
   "file_extension": ".py",
   "mimetype": "text/x-python",
   "name": "python",
   "nbconvert_exporter": "python",
   "pygments_lexer": "ipython3",
   "version": "3.11.5"
  }
 },
 "nbformat": 4,
 "nbformat_minor": 2
}
