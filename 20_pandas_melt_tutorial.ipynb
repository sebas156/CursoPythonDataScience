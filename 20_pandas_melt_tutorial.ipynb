{
 "cells": [
  {
   "cell_type": "markdown",
   "id": "0f44caf7",
   "metadata": {},
   "source": [
    "# Understanding `melt` in Pandas\n",
    "\n",
    "## Introduction\n",
    "\n",
    "The `melt` function in pandas is used to transform a DataFrame from a wide format to a long format. This is particularly useful when dealing with data visualization and analysis.\n",
    "\n",
    "### Why Use `melt`?\n",
    "- It makes the data more suitable for plotting and analysis.\n",
    "- It helps restructure data in a way that is easy to work with.\n",
    "- It is particularly useful in scenarios where columns represent different categories of the same variable.\n",
    "\n",
    "Let's dive into the theory and usage of `melt` in pandas.\n"
   ]
  },
  {
   "cell_type": "markdown",
   "id": "ad829353",
   "metadata": {},
   "source": [
    "## Theory Behind `melt`\n",
    "\n",
    "### Syntax:\n",
    "```python\n",
    "pandas.melt(frame, id_vars=None, value_vars=None, var_name=None, value_name='value', col_level=None, ignore_index=True)\n",
    "```\n",
    "\n",
    "### Parameters:\n",
    "- `frame`: The DataFrame that needs to be reshaped.\n",
    "- `id_vars`: Columns that should remain unchanged (identifier variables).\n",
    "- `value_vars`: Columns to be unpivoted (default is all columns except `id_vars`).\n",
    "- `var_name`: Name for the new column that stores the column names from the `value_vars`.\n",
    "- `value_name`: Name for the new column that stores the values from the `value_vars`.\n",
    "- `col_level`: If the columns are multi-index, this specifies which level to melt.\n",
    "- `ignore_index`: Whether to reset the index or not.\n",
    "\n",
    "### How It Works:\n",
    "- It converts wide-format data (columns representing different categories) into long-format data (one column for category names, another for values).\n",
    "- It is commonly used in data preprocessing before visualization or analysis.\n"
   ]
  },
  {
   "cell_type": "markdown",
   "id": "5c6c96c4",
   "metadata": {},
   "source": [
    "## Practical Examples\n",
    "\n",
    "Let's apply the `melt` function to understand how it works."
   ]
  },
  {
   "cell_type": "code",
   "execution_count": 1,
   "id": "a31c3b2f",
   "metadata": {},
   "outputs": [
    {
     "name": "stdout",
     "output_type": "stream",
     "text": [
      "Original DataFrame:\n",
      "      Name  Math  Science\n",
      "0    Alice    85       88\n",
      "1      Bob    90       92\n",
      "2  Charlie    78       80\n",
      "Melted DataFrame:\n",
      "      Name  Subject  Score\n",
      "0    Alice     Math     85\n",
      "1      Bob     Math     90\n",
      "2  Charlie     Math     78\n",
      "3    Alice  Science     88\n",
      "4      Bob  Science     92\n",
      "5  Charlie  Science     80\n"
     ]
    }
   ],
   "source": [
    "import pandas as pd\n",
    "\n",
    "# Creating a sample DataFrame\n",
    "df = pd.DataFrame({\n",
    "    'Name': ['Alice', 'Bob', 'Charlie'],\n",
    "    'Math': [85, 90, 78],\n",
    "    'Science': [88, 92, 80]\n",
    "})\n",
    "\n",
    "print(\"Original DataFrame:\")\n",
    "print(df)\n",
    "\n",
    "# Applying melt function\n",
    "df_melted = pd.melt(df, id_vars=['Name'], var_name='Subject', value_name='Score')\n",
    "\n",
    "print(\"Melted DataFrame:\")\n",
    "print(df_melted)\n"
   ]
  },
  {
   "cell_type": "markdown",
   "id": "bdb9e110",
   "metadata": {},
   "source": [
    "### Explanation:\n",
    "- We created a DataFrame with three students and their scores in two subjects: Math and Science.\n",
    "- We used `melt` to transform the table so that instead of separate columns for Math and Science, we have a single column indicating the subject and another column for the score.\n",
    "- `id_vars=['Name']` ensures that the \"Name\" column remains unchanged.\n",
    "- `var_name='Subject'` renames the previous column headers (Math and Science) into a single column.\n",
    "- `value_name='Score'` renames the column that contains the numerical values.\n"
   ]
  },
  {
   "cell_type": "code",
   "execution_count": 2,
   "id": "c906242c",
   "metadata": {},
   "outputs": [
    {
     "name": "stdout",
     "output_type": "stream",
     "text": [
      "Melted DataFrame with only Math column:\n",
      "      Name Subject  Score\n",
      "0    Alice    Math     85\n",
      "1      Bob    Math     90\n",
      "2  Charlie    Math     78\n"
     ]
    }
   ],
   "source": [
    "# Selecting specific columns to melt\n",
    "df_melted_specific = pd.melt(df, id_vars=['Name'], value_vars=['Math'], var_name='Subject', value_name='Score')\n",
    "\n",
    "print(\"Melted DataFrame with only Math column:\")\n",
    "print(df_melted_specific)\n"
   ]
  },
  {
   "cell_type": "markdown",
   "id": "ebbee847",
   "metadata": {},
   "source": [
    "## Exercises\n",
    "\n",
    "Now it's your turn! Try solving these exercises to strengthen your understanding of `melt`.\n",
    "\n",
    "### Exercise 1:\n",
    "Create a DataFrame representing monthly sales for three products over three months (January, February, March). Convert this wide-format table into a long-format table using `melt`.\n",
    "\n",
    "### Exercise 2:\n",
    "Using the same sales DataFrame, apply `melt` but only unpivot the February and March columns, keeping January untouched.\n",
    "\n",
    "### Exercise 3:\n",
    "Experiment with the `var_name` and `value_name` parameters to customize the column names in your melted DataFrame.\n",
    "\n",
    "Try writing your solutions below!\n"
   ]
  }
 ],
 "metadata": {
  "kernelspec": {
   "display_name": "Python 3",
   "language": "python",
   "name": "python3"
  },
  "language_info": {
   "codemirror_mode": {
    "name": "ipython",
    "version": 3
   },
   "file_extension": ".py",
   "mimetype": "text/x-python",
   "name": "python",
   "nbconvert_exporter": "python",
   "pygments_lexer": "ipython3",
   "version": "3.11.5"
  }
 },
 "nbformat": 4,
 "nbformat_minor": 5
}
